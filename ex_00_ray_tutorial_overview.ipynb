{
 "cells": [
  {
   "cell_type": "markdown",
   "metadata": {},
   "source": [
    "# Ray Tutorial Basic Core APIs - Overview\n",
    "\n",
    "© 2021-2022, Anyscale. All Rights Reserved\n",
    "\n",
    "<img src=\"images/ray-logo.png\" height=\"15%\" width=\"30%\">\n",
    "\n",
    "## About This Tutorial\n",
    "\n",
    "In this tutorial, we'll cover the basic Ray Core APIs and its fundamental patterns. This is an introductory material, covering three basic distributed Ray core APIs patterns:\n",
    "\n",
    " * Remote Functions as Tasks\n",
    " * Remote Objects as Futures\n",
    " * Remote Classes as stateful Actors\n",
    " \n",
    " \n",
    "There are other advanced [Ray Patterns and Anti-patterns](https://docs.ray.io/en/latest/ray-design-patterns/index.html), which are not covered in this tutorial. Mainly applicable when writing more complex distributed applications, we recommend reading them to equip yourself to use Ray APIs more effectively.\n",
    "\n",
    "This tutorial also includes extra material on hyperparameter optimization and model serving with Ray libraries. For more information on these tools, check out the [Ray docs](https://docs.ray.io/en/latest/ray-overview/index.html)\n",
    "\n",
    "\n",
    "See the instructions in the [README](./README.md) for setting up your environment to use this tutorial."
   ]
  },
  {
   "cell_type": "markdown",
   "metadata": {},
   "source": [
    "|     | Lesson | Description |\n",
    "| :-- | :----- | :---------- |\n",
    "| 00  | [Ray Tutorial Overview](ex_00_ray_tutorial_overview) | Overview of this tutorial. |\n",
    "| 01  | [Ray Remote Functions ](ex_01_remote_funcs.ipynb) |The Remote Function as StateLess Tasks Pattern. |\n",
    "| 02  | [Ray Remote Objects](ex_02_remote_objs.ipynb) |The Remote Objects as Futures Pattern. |\n",
    "| 03  | [Ray Remote Classes](ex_03_remote_classes.ipynb) |The Remote Classes as Stateful Actors Pattern |\n",
    "| 04  | [Ray API Calls Tour](ex_04_exploring_ray_api_calls.ipynb) |A look at common Ray API calls |\n",
    "| 05  | [Running Ray Clusters](ex_05_running_ray_clusters.ipynb) | Ray Clusters from CLI |\n",
    "| 06  | [Ray XGBoost and Ray Tune](ex_06_xgboost_train_tune.ipynb) | Ray Tune and XGBoost-Ray Drop-in replacement for Distributed HPO |\n",
    "| 07  | [Ray Tune and Scikit-learn](ex_07_ray_tune_scklearn.ipynb) | Ray Tune and Scikit-learn's TuneGridSearchCV Drop-in replacement for Distributed HPO |\n",
    "| 08  | [Ray Serve Model Serving Challenges](ex_08_model_serving_challenges.ipynb) | Waht are model serving challenges |\n",
    "| 09  | [Ray Serve Accessing Deployments](ex_09_ray_serve_create_and_access_deployments.ipynb) | Multiple ways to access deployments  |\n",
    "| 10  | [Ray Serve Example](ex_10_ray_serve_example.ipynb) | A Simple Ray Serve Example  |"
   ]
  }
 ],
 "metadata": {
  "kernelspec": {
   "display_name": "Python 3 (ipykernel)",
   "language": "python",
   "name": "python3"
  },
  "language_info": {
   "codemirror_mode": {
    "name": "ipython",
    "version": 3
   },
   "file_extension": ".py",
   "mimetype": "text/x-python",
   "name": "python",
   "nbconvert_exporter": "python",
   "pygments_lexer": "ipython3",
   "version": "3.8.12"
  }
 },
 "nbformat": 4,
 "nbformat_minor": 4
}
